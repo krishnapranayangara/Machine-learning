{
  "nbformat": 4,
  "nbformat_minor": 0,
  "metadata": {
    "colab": {
      "provenance": [],
      "authorship_tag": "ABX9TyMH/JpUF9r3d+5CCTexCmh0",
      "include_colab_link": true
    },
    "kernelspec": {
      "name": "python3",
      "display_name": "Python 3"
    },
    "language_info": {
      "name": "python"
    }
  },
  "cells": [
    {
      "cell_type": "markdown",
      "metadata": {
        "id": "view-in-github",
        "colab_type": "text"
      },
      "source": [
        "<a href=\"https://colab.research.google.com/github/Pranaykrishna/Feature-Engineering/blob/main/Homework_1.ipynb\" target=\"_parent\"><img src=\"https://colab.research.google.com/assets/colab-badge.svg\" alt=\"Open In Colab\"/></a>"
      ]
    },
    {
      "cell_type": "markdown",
      "source": [
        "#2. Please write a Python code to calculate Correlation, Cosine similarity,and Euclidean distance using NumPy.The input will be two randomly generated or given vectors."
      ],
      "metadata": {
        "id": "rBjy2TYuTSoT"
      }
    },
    {
      "cell_type": "code",
      "execution_count": null,
      "metadata": {
        "id": "8Jfs5A0q55qs"
      },
      "outputs": [],
      "source": [
        "import numpy as np"
      ]
    },
    {
      "cell_type": "code",
      "source": [
        "dimensions=np.random.randint(1,5)\n",
        "#Create arrays\n",
        "array1=np.random.randint(1,20,(dimensions))\n",
        "array2=np.random.randint(1,30,(dimensions))\n",
        "#create vectors\n",
        "array1=array1.flatten()\n",
        "array2=array2.flatten()\n",
        "\n",
        "print(\"array1 \\n\",array1)\n",
        "print(\"array2 \\n\",array2)"
      ],
      "metadata": {
        "colab": {
          "base_uri": "https://localhost:8080/"
        },
        "id": "k9JhBi48_d5F",
        "outputId": "2aac60fb-56a8-46b2-aafc-faa6ca3544e4"
      },
      "execution_count": null,
      "outputs": [
        {
          "output_type": "stream",
          "name": "stdout",
          "text": [
            "array1 \n",
            " [16 13  6]\n",
            "array2 \n",
            " [18 17 27]\n"
          ]
        }
      ]
    },
    {
      "cell_type": "code",
      "source": [
        "def calculate(array1,array2):\n",
        "  #Correlation uses pearsons correlation so we have done 1-pearsons correlation to get dissimilarities instead of similarities\n",
        "  print(\"------------------Correlation Coefficeint------------------\")\n",
        "  print(\"correlation coefficient: \",1-np.corrcoef(array1, array2)[0, 1])\n",
        "  # print(\"Correlation to find overall correlation disregarding their dimensionality: \\n\",np.cov(array1.flatten(),array2.flatten())/(np.std(array1.flatten()) * np.std(array2.flatten())))\n",
        "  print(\"Correlation using formula: \",1-np.cov(array1,array2)[0,1]/(np.std(array1) * np.std(array2)))\n",
        "  print(\"\\n\")\n",
        "  #Cosine similarity = 1- cosine distance\n",
        "  print(\"------------------Cosine similarity------------------\")\n",
        "  print(\"Cosine similarity: \",1-np.dot(array1,array2)/np.dot(np.sqrt(sum(array1**2)),np.sqrt(sum(array2**2))))\n",
        "  print(\"Cosine similarity using linalg: \",1-np.dot(array1,array2)/(np.linalg.norm(array1)*np.linalg.norm(array2)))\n",
        "  print(\"\\n\")\n",
        "  #Euclidean distance\n",
        "  print(\"------------------Euclidean similarity------------------\")\n",
        "  print(\"Euclidean distance: \",np.linalg.norm(array1-array2,ord=2))"
      ],
      "metadata": {
        "id": "tFObirNN_gnG"
      },
      "execution_count": null,
      "outputs": []
    },
    {
      "cell_type": "code",
      "source": [
        "calculate(array1,array2)"
      ],
      "metadata": {
        "colab": {
          "base_uri": "https://localhost:8080/"
        },
        "id": "srtxytJPAUWF",
        "outputId": "613a42a2-fd8e-49fc-acf7-7c32cba6992f"
      },
      "execution_count": null,
      "outputs": [
        {
          "output_type": "stream",
          "name": "stdout",
          "text": [
            "------------------Correlation Coefficeint------------------\n",
            "To find correlation coefficient:  1.9258388804182336\n",
            "Correlation to find correlation between two arrays/vectors:  2.38875832062735\n",
            "\n",
            "\n",
            "------------------Cosine similarity------------------\n",
            "Cosine similarity:  0.14690813702091365\n",
            "Cosine similarity using linalg:  0.14690813702091365\n",
            "\n",
            "\n",
            "------------------Euclidean similarity------------------\n",
            "Euclidean distance:  21.470910553583888\n"
          ]
        }
      ]
    },
    {
      "cell_type": "markdown",
      "source": [
        "#3. (Bonus question) Are Correlation, Cosine similarity, and Euclidean distance functions defined in SciPy AND Pandas? If there are, please give another version of the above code by calling them directly."
      ],
      "metadata": {
        "id": "p_oVC93MTrXI"
      }
    },
    {
      "cell_type": "code",
      "source": [
        "import scipy"
      ],
      "metadata": {
        "id": "NQw6azRLUHW-"
      },
      "execution_count": null,
      "outputs": []
    },
    {
      "cell_type": "code",
      "source": [
        "def scipy_functions(array1,array2):\n",
        "  array1=array1.flatten()\n",
        "  array2=array2.flatten()\n",
        "  #Correlation\n",
        "  print(\"------------------Correlation Coefficeint------------------\")\n",
        "  print(\"\\nCorrelation between two arrays/vectors: \",scipy.spatial.distance.correlation(array1,array2))\n",
        "\n",
        "  #Cosine similarity\n",
        "  print(\"\\n------------------Cosine similarity------------------\")\n",
        "  print(\"\\nCosine similarity: \",scipy.spatial.distance.cosine(array1,array2))\n",
        "\n",
        "  #Euclidean distance\n",
        "  print(\"\\n------------------Euclidean similarity------------------\")\n",
        "  print(\"\\nEuclidean distance: \",scipy.spatial.distance.euclidean(array1,array2))"
      ],
      "metadata": {
        "id": "r-hYmpRYTx1e"
      },
      "execution_count": null,
      "outputs": []
    },
    {
      "cell_type": "code",
      "source": [
        "scipy_functions(array1,array2)"
      ],
      "metadata": {
        "colab": {
          "base_uri": "https://localhost:8080/"
        },
        "id": "z_eS23NDVutt",
        "outputId": "1cde834a-6f68-49f2-85c8-21ef1728ddc6"
      },
      "execution_count": null,
      "outputs": [
        {
          "output_type": "stream",
          "name": "stdout",
          "text": [
            "------------------Correlation Coefficeint------------------\n",
            "\n",
            "Correlation between two arrays/vectors:  1.9258388804182336\n",
            "\n",
            "------------------Cosine similarity------------------\n",
            "\n",
            "Cosine similarity:  0.14690813702091388\n",
            "\n",
            "------------------Euclidean similarity------------------\n",
            "\n",
            "Euclidean distance:  21.470910553583888\n"
          ]
        }
      ]
    }
  ]
}